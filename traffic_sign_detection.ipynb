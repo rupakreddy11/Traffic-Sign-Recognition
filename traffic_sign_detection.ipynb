{
 "cells": [
  {
   "cell_type": "markdown",
   "metadata": {},
   "source": [
    "# Importing Libraries"
   ]
  },
  {
   "cell_type": "code",
   "execution_count": 1,
   "metadata": {},
   "outputs": [
    {
     "name": "stderr",
     "output_type": "stream",
     "text": [
      "Using TensorFlow backend.\n"
     ]
    }
   ],
   "source": [
    "import numpy as np\n",
    "import pandas as pd\n",
    "import cv2\n",
    "import tensorflow as tf\n",
    "import os\n",
    "import matplotlib.pyplot as plt\n",
    "from sklearn.model_selection import train_test_split\n",
    "from sklearn.metrics import accuracy_score\n",
    "from keras.layers import Conv2D, Flatten, Dense, MaxPool2D, Dropout\n",
    "from keras.models import Sequential, load_model\n",
    "from keras.utils import to_categorical\n",
    "from PIL import Image"
   ]
  },
  {
   "cell_type": "markdown",
   "metadata": {},
   "source": [
    "# Retrieving the images and their labels\n",
    "\n",
    "The images along with their labels must be retrieved from the datasets..."
   ]
  },
  {
   "cell_type": "code",
   "execution_count": 2,
   "metadata": {},
   "outputs": [],
   "source": [
    "data=[]\n",
    "labels=[]\n",
    "classes=43\n",
    "current_path=os.getcwd()\n",
    "\n",
    "for i in range(classes):\n",
    "    path=os.path.join(current_path,'train',str(i))\n",
    "    images=os.listdir(path)\n",
    "    \n",
    "    for a in images:\n",
    "        try:\n",
    "            image=Image.open(path+'\\\\'+a)\n",
    "            image=image.resize((30,30))\n",
    "            image=np.array(image)\n",
    "            data.append(image)\n",
    "            labels.append(i)\n",
    "        except:\n",
    "            print('Error in finding Image')\n",
    "            "
   ]
  },
  {
   "cell_type": "markdown",
   "metadata": {},
   "source": [
    " # Converting list into array of numpy\n",
    " As the data and labels are formed as lists, we need to convert into arrays for the further work..."
   ]
  },
  {
   "cell_type": "code",
   "execution_count": 3,
   "metadata": {},
   "outputs": [
    {
     "name": "stdout",
     "output_type": "stream",
     "text": [
      "(39209, 30, 30, 3)\n",
      "(39209,)\n"
     ]
    }
   ],
   "source": [
    "data=np.array(data)\n",
    "labels=np.array(labels)\n",
    "\n",
    "print(data.shape)\n",
    "print(labels.shape)\n"
   ]
  },
  {
   "cell_type": "markdown",
   "metadata": {},
   "source": [
    "# Splitting into train and test set\n",
    "\n",
    "The retrieved data is stored in data and labels which are in the form of arrays. Now the entire acquired data must be splitted into training set and testing set."
   ]
  },
  {
   "cell_type": "code",
   "execution_count": 4,
   "metadata": {},
   "outputs": [],
   "source": [
    "x_train, x_test, y_train, y_test= train_test_split(data, labels, test_size=0.2, random_state=42)"
   ]
  },
  {
   "cell_type": "code",
   "execution_count": 5,
   "metadata": {},
   "outputs": [
    {
     "name": "stdout",
     "output_type": "stream",
     "text": [
      "(31367, 30, 30, 3) (7842, 30, 30, 3) (31367,) (7842,)\n"
     ]
    }
   ],
   "source": [
    "print(x_train.shape, x_test.shape, y_train.shape, y_test.shape)"
   ]
  },
  {
   "cell_type": "markdown",
   "metadata": {},
   "source": [
    "As we have splitted the dataset into train and test set in 80% and 20% respectively, the above are the sizes of those train and test set"
   ]
  },
  {
   "cell_type": "markdown",
   "metadata": {},
   "source": [
    "# Converting the labels\n",
    "\n",
    "The labels of the images must be converted using One hot encoding"
   ]
  },
  {
   "cell_type": "code",
   "execution_count": 6,
   "metadata": {},
   "outputs": [],
   "source": [
    "y_train=to_categorical(y_train,43)\n",
    "y_test=to_categorical(y_test,43)"
   ]
  },
  {
   "cell_type": "code",
   "execution_count": 7,
   "metadata": {},
   "outputs": [
    {
     "data": {
      "text/plain": [
       "array([[0., 0., 0., ..., 0., 0., 0.],\n",
       "       [0., 0., 0., ..., 0., 0., 0.],\n",
       "       [0., 0., 1., ..., 0., 0., 0.],\n",
       "       ...,\n",
       "       [0., 0., 0., ..., 0., 0., 0.],\n",
       "       [0., 1., 0., ..., 0., 0., 0.],\n",
       "       [0., 0., 0., ..., 0., 0., 0.]], dtype=float32)"
      ]
     },
     "execution_count": 7,
     "metadata": {},
     "output_type": "execute_result"
    }
   ],
   "source": [
    "y_train"
   ]
  },
  {
   "cell_type": "code",
   "execution_count": 8,
   "metadata": {},
   "outputs": [
    {
     "data": {
      "text/plain": [
       "array([[0., 0., 0., ..., 0., 0., 0.],\n",
       "       [0., 0., 0., ..., 0., 0., 0.],\n",
       "       [0., 0., 0., ..., 0., 0., 0.],\n",
       "       ...,\n",
       "       [0., 0., 0., ..., 0., 0., 0.],\n",
       "       [0., 0., 0., ..., 0., 0., 0.],\n",
       "       [0., 0., 0., ..., 0., 0., 0.]], dtype=float32)"
      ]
     },
     "execution_count": 8,
     "metadata": {},
     "output_type": "execute_result"
    }
   ],
   "source": [
    "y_test"
   ]
  },
  {
   "cell_type": "markdown",
   "metadata": {},
   "source": [
    "Once the required preprocessing is done, let's enter into the main part i.e \n",
    "\n",
    "# Building a model\n",
    "\n",
    "A model to detect the various traffic signs must be built using Convolutional Neural Network"
   ]
  },
  {
   "cell_type": "code",
   "execution_count": 9,
   "metadata": {},
   "outputs": [],
   "source": [
    "model=Sequential()\n",
    "model.add(Conv2D(filters=32, kernel_size=(5,5), activation='relu', input_shape=x_train.shape[1:]))\n",
    "model.add(Conv2D(filters=32, kernel_size=(5,5), activation='relu'))\n",
    "model.add(MaxPool2D(pool_size=(2, 2)))\n",
    "model.add(Dropout(rate=0.25))\n",
    "model.add(Conv2D(filters=64, kernel_size=(3, 3), activation='relu'))\n",
    "model.add(Conv2D(filters=64, kernel_size=(3, 3), activation='relu'))\n",
    "model.add(MaxPool2D(pool_size=(2, 2)))\n",
    "model.add(Dropout(rate=0.25))\n",
    "model.add(Flatten())\n",
    "model.add(Dense(256, activation='relu'))\n",
    "model.add(Dropout(rate=0.5))\n",
    "model.add(Dense(43, activation='softmax'))"
   ]
  },
  {
   "cell_type": "markdown",
   "metadata": {},
   "source": [
    "Compilation of the above developed model using cross entropy and adam optimizer"
   ]
  },
  {
   "cell_type": "code",
   "execution_count": 10,
   "metadata": {},
   "outputs": [],
   "source": [
    "model.compile(loss='categorical_crossentropy', optimizer='adam',metrics=['accuracy'])"
   ]
  },
  {
   "cell_type": "markdown",
   "metadata": {},
   "source": [
    "As the compilation is successful , we will save this model for future use to work on new images"
   ]
  },
  {
   "cell_type": "code",
   "execution_count": 11,
   "metadata": {},
   "outputs": [
    {
     "name": "stdout",
     "output_type": "stream",
     "text": [
      "Train on 31367 samples, validate on 7842 samples\n",
      "Epoch 1/15\n",
      "31367/31367 [==============================] - 142s 5ms/step - loss: 1.9544 - accuracy: 0.5093 - val_loss: 0.5878 - val_accuracy: 0.8585\n",
      "Epoch 2/15\n",
      "31367/31367 [==============================] - 141s 4ms/step - loss: 0.7818 - accuracy: 0.7694 - val_loss: 0.2735 - val_accuracy: 0.9318\n",
      "Epoch 3/15\n",
      "31367/31367 [==============================] - 138s 4ms/step - loss: 0.5589 - accuracy: 0.8350 - val_loss: 0.1825 - val_accuracy: 0.9513\n",
      "Epoch 4/15\n",
      "31367/31367 [==============================] - 139s 4ms/step - loss: 0.4252 - accuracy: 0.8741 - val_loss: 0.1292 - val_accuracy: 0.9605\n",
      "Epoch 5/15\n",
      "31367/31367 [==============================] - 145s 5ms/step - loss: 0.3631 - accuracy: 0.8925 - val_loss: 0.1047 - val_accuracy: 0.9689\n",
      "Epoch 6/15\n",
      "31367/31367 [==============================] - 145s 5ms/step - loss: 0.3181 - accuracy: 0.9073 - val_loss: 0.1139 - val_accuracy: 0.9660\n",
      "Epoch 7/15\n",
      "31367/31367 [==============================] - 144s 5ms/step - loss: 0.3088 - accuracy: 0.9089 - val_loss: 0.0826 - val_accuracy: 0.9778\n",
      "Epoch 8/15\n",
      "31367/31367 [==============================] - 146s 5ms/step - loss: 0.2774 - accuracy: 0.9184 - val_loss: 0.0733 - val_accuracy: 0.9782\n",
      "Epoch 9/15\n",
      "31367/31367 [==============================] - 145s 5ms/step - loss: 0.2737 - accuracy: 0.9210 - val_loss: 0.1099 - val_accuracy: 0.9665\n",
      "Epoch 10/15\n",
      "31367/31367 [==============================] - 146s 5ms/step - loss: 0.2726 - accuracy: 0.9206 - val_loss: 0.0727 - val_accuracy: 0.9786\n",
      "Epoch 11/15\n",
      "31367/31367 [==============================] - 146s 5ms/step - loss: 0.2422 - accuracy: 0.9302 - val_loss: 0.0638 - val_accuracy: 0.9813\n",
      "Epoch 12/15\n",
      "31367/31367 [==============================] - 146s 5ms/step - loss: 0.2281 - accuracy: 0.9352 - val_loss: 0.0521 - val_accuracy: 0.9846\n",
      "Epoch 13/15\n",
      "31367/31367 [==============================] - 145s 5ms/step - loss: 0.2343 - accuracy: 0.9339 - val_loss: 0.0583 - val_accuracy: 0.9842\n",
      "Epoch 14/15\n",
      "31367/31367 [==============================] - 146s 5ms/step - loss: 0.2146 - accuracy: 0.9396 - val_loss: 0.0694 - val_accuracy: 0.9800\n",
      "Epoch 15/15\n",
      "31367/31367 [==============================] - 145s 5ms/step - loss: 0.2102 - accuracy: 0.9413 - val_loss: 0.0644 - val_accuracy: 0.9819\n"
     ]
    }
   ],
   "source": [
    "epochs=15\n",
    "history=model.fit(x_train, y_train, batch_size=32, epochs=epochs, validation_data=(x_test, y_test))\n",
    "model.save('tsd.h5')"
   ]
  },
  {
   "cell_type": "markdown",
   "metadata": {},
   "source": [
    "# Plotting the graph \n",
    "\n",
    "Plotting a graph to represent the accuracy"
   ]
  },
  {
   "cell_type": "code",
   "execution_count": 13,
   "metadata": {},
   "outputs": [
    {
     "data": {
      "image/png": "[encoded data removed]",
      "text/plain": [
       "<Figure size 432x288 with 1 Axes>"
      ]
     },
     "metadata": {
      "needs_background": "light"
     },
     "output_type": "display_data"
    }
   ],
   "source": [
    "plt.figure(0)\n",
    "plt.plot(history.history['accuracy'], label='training accuracy')\n",
    "plt.plot(history.history['val_accuracy'], label='value accuracy')\n",
    "plt.title('Accuracy')\n",
    "plt.xlabel('epochs')\n",
    "plt.ylabel('accuracy')\n",
    "plt.legend()\n",
    "plt.show()"
   ]
  },
  {
   "cell_type": "code",
   "execution_count": 14,
   "metadata": {},
   "outputs": [
    {
     "data": {
      "image/png": "[encoded data removed]",
      "text/plain": [
       "<Figure size 432x288 with 1 Axes>"
      ]
     },
     "metadata": {
      "needs_background": "light"
     },
     "output_type": "display_data"
    }
   ],
   "source": [
    "plt.figure(0)\n",
    "plt.plot(history.history['loss'], label='training loss')\n",
    "plt.plot(history.history['val_loss'], label='value loss')\n",
    "plt.title('Loss')\n",
    "plt.xlabel('epochs')\n",
    "plt.ylabel('Loss')\n",
    "plt.legend()\n",
    "plt.show()"
   ]
  },
  {
   "cell_type": "markdown",
   "metadata": {},
   "source": [
    "# Testing accuracy on Test set\n",
    "\n",
    "Let's know the accuracy on the test set"
   ]
  },
  {
   "cell_type": "code",
   "execution_count": 19,
   "metadata": {},
   "outputs": [
    {
     "name": "stdout",
     "output_type": "stream",
     "text": [
      "0.9389548693586698\n"
     ]
    }
   ],
   "source": [
    "y_test= pd.read_csv('Test.csv')\n",
    "\n",
    "ids=y_test['ClassId'].values\n",
    "imgs=y_test['Path'].values\n",
    "\n",
    "data=[]\n",
    "for i in imgs:\n",
    "    image=Image.open(i)\n",
    "    image=image.resize((30,30))\n",
    "    data.append(np.array(image))\n",
    "    \n",
    "x_test=np.array(data)\n",
    "pred=model.predict_classes(x_test)\n",
    "\n",
    "print(accuracy_score(ids, predict))"
   ]
  },
  {
   "cell_type": "markdown",
   "metadata": {},
   "source": [
    "Yep!!! Finally the accuracy is 94%"
   ]
  }
 ],
 "metadata": {
  "kernelspec": {
   "display_name": "Python 3",
   "language": "python",
   "name": "python3"
  },
  "language_info": {
   "codemirror_mode": {
    "name": "ipython",
    "version": 3
   },
   "file_extension": ".py",
   "mimetype": "text/x-python",
   "name": "python",
   "nbconvert_exporter": "python",
   "pygments_lexer": "ipython3",
   "version": "3.6.10"
  }
 },
 "nbformat": 4,
 "nbformat_minor": 4
}
